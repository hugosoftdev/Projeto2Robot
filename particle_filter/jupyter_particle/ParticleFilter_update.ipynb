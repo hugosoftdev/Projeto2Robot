{
 "cells": [
  {
   "cell_type": "markdown",
   "metadata": {},
   "source": [
    "# Filtro de partículas\n",
    "\n",
    "\n",
    "Cada partícula vai ser representada por uma lista [x,y,theta]\n",
    "\n",
    "Trabalhe com 2 listas:\n",
    "\n",
    "\tS = []  # Vai conter as n partículas. \n",
    "\n",
    "\tW = [] # Pesos das partículas\n",
    "\n",
    "\tn_part = # Número de partículas\n",
    "\n",
    "\n",
    "# Atividades\n",
    "\n",
    "\n",
    "1. Crie uma função que gere n partículas aleatórias distribuidas uniformemente dentro de uma área minx, miny, maxx, maxy (passados como parâmetros). Veja a funcao \n",
    "\n",
    "\tDevolve uma lista com n partículas\n",
    "\n",
    "2. Descubra como desenhar as n partículas (analise o módulo inspercles)\n",
    "\n",
    "3. Faça o desenho das partículas\n",
    "\n",
    "4. Crie uma lista para simular os movimentos do robô. Veja a lista chamada <code>movimentos</code> que é usada na seção *Teste de animação*, mais abaixo\n",
    "\n",
    "5. Crie uma função que aplica um deslocamento [delta_x, delta_y, delta_theta] com um desvio padrão [std_x, std_y, std_theta] a todas as partículas\n",
    "\n",
    "6. Desenhe as partículas após o deslocamento\n",
    "\n",
    "7. Descubra como calcular $P(D|H)$ analisando o Python Notebook. A função que traça os raios está no modulo inspercles\n",
    "\n",
    "Programe a aplicação da equação que está na pág. 853 do livro do Norvig $$P(z_t | x_t) = \\alpha \\prod_{j}^M{e^{\\frac{-(z_j - \\hat{z_j})}{2\\sigma^2}}}$$\n",
    "\n",
    "Ou seja, para cada raio estimado $\\hat{z_j}$ e leitura real $z_j$ calcule a probabilidade daquele raio ter acontecido dado que a posição do robô fosse de fato a da partícula\n",
    "\n",
    "\n",
    "8 . Usando os resultados de 7 calcule $P(H|D)$ e insira numa lista de probabilidades das partículas\n",
    "\n",
    "9 . Reamostre as partículas de forma proporcional à probabilidade\n",
    "\n"
   ]
  },
  {
   "cell_type": "code",
   "execution_count": 21,
   "metadata": {
    "collapsed": true
   },
   "outputs": [],
   "source": [
    "from random import randint, choice\n",
    "import time\n",
    "import matplotlib.pyplot as plt\n",
    "import matplotlib.patches as mpatches\n",
    "import numpy as np\n",
    "import math\n",
    "import random\n",
    "from pf import Particle\n",
    "from nav_msgs.msg import OccupancyGrid\n",
    "from occupancy_field import OccupancyField\n",
    "from helper_functions import angle_normalize, angle_diff\n",
    "\n",
    "import cv2\n",
    "\n",
    "import sys\n",
    "import os\n",
    "os.getcwd() \n",
    "import sys\n",
    "sys.path.append(os.getcwd())\n",
    "\n",
    "\n",
    "import inspercles\n",
    "reload(inspercles)\n",
    "\n",
    "\n",
    "# Para suprimir alguns warnings do Matplotlib Inline\n",
    "import warnings\n",
    "warnings.simplefilter('ignore')\n",
    "%matplotlib inline\n"
   ]
  },
  {
   "cell_type": "markdown",
   "metadata": {},
   "source": [
    "## Diretõrio de trabalho"
   ]
  },
  {
   "cell_type": "code",
   "execution_count": 22,
   "metadata": {},
   "outputs": [
    {
     "name": "stdout",
     "output_type": "stream",
     "text": [
      "/home/borg/robot17-master/particle_filter/jupyter_particle\r\n"
     ]
    }
   ],
   "source": [
    "!pwd\n",
    "\n",
    "\n"
   ]
  },
  {
   "cell_type": "code",
   "execution_count": 23,
   "metadata": {
    "collapsed": true
   },
   "outputs": [],
   "source": [
    "# Dados do arquivo mapa.yaml\n",
    "\n",
    "resolution = 0.020000\n",
    "origin =  [-5.000000, -5.000000, 0.000000]\n",
    "occupied_thresh = 0.8\n",
    "free_thresh =  0.2\n",
    "\n",
    "inspercles.free_thresh = free_thresh # Limiar em tons de cinza para que uma celula seja considerada livre\n",
    "inspercles.occupied_thresh = occupied_thresh # Limiar de celula ocupada\n",
    "inspercles.origin = origin\n",
    "inspercles.resolution = resolution\n"
   ]
  },
  {
   "cell_type": "code",
   "execution_count": 24,
   "metadata": {
    "collapsed": true
   },
   "outputs": [],
   "source": [
    "\n",
    "\n",
    "from PIL import Image as PilImage\n",
    "\n",
    "\n",
    "color_image = cv2.imread(\"sparse_obstacles.png\")\n",
    "pil_image = color_image\n",
    "np_image = cv2.cvtColor(color_image, cv2.COLOR_BGR2GRAY)\n",
    "\n",
    "\n",
    "#color_image = PilImage.open(\"sparse_obstacles.png\", 'r')\n",
    "#pil_image = color_image.convert('1') # Converte a imagem PIL para Grayscale\n",
    "#np_image = np.asarray(pil_image)\n",
    "\n",
    "particle_size = 10\n",
    "\n",
    "#import matplotlib_render as plotmap\n",
    "\n",
    "back_color = \"black\"\n",
    "colors     = ['red', 'green', 'cyan', 'yellow']\n",
    "width, height = 775, 746\n",
    "inspercles.width = width\n",
    "inspercles.height = height\n",
    "initial_pose = [200, 200, math.pi/8] # Posicao inicial considerada para o pf\n",
    "inspercles.initial_pose = initial_pose\n",
    "pose = [450, 450, math.radians(90)] # posicao \"verdadeira\" do robo \n",
    "inspercles.pose = pose\n",
    "robot_radius=10   # Raio do robo\n",
    "inspercles.robot_radius = robot_radius\n",
    "\n",
    "# Os angulos em que o robo simulado vai ter sensores\n",
    "angles = np.linspace(0.0, 2*math.pi, num=8)\n",
    "\n",
    "particle_cloud = []\n",
    "\n",
    "\n",
    "\n",
    "    \n",
    "    \n",
    "    \n",
    "    "
   ]
  },
  {
   "cell_type": "markdown",
   "metadata": {},
   "source": [
    "# Exercício 1 e 2"
   ]
  },
  {
   "cell_type": "code",
   "execution_count": 25,
   "metadata": {
    "collapsed": true
   },
   "outputs": [],
   "source": [
    "#Exercício 1 - Função que cria as partículas.\n",
    "def create_particles(pos,var_x =100,var_y=100, var_theta=360,num=200):\n",
    "    particle_cloud = []\n",
    "    s = pose\n",
    "    for i in range(num):\n",
    "        x = random.uniform(s[0] - var_x, s[0] + var_x)\n",
    "        y = random.uniform(s[1] - var_x, s[1] + var_y)\n",
    "        theta = random.uniform(s[2] - var_theta, s[2] + var_theta)\n",
    "        particle_cloud.append([x,y,theta])\n",
    "    return particle_cloud\n",
    "\n",
    "#Exercício 2 - funções que desenham as partículas\n",
    "def nb_draw_arrow(x, y, theta, ax, l = 15, color='y', headwidth=3.0, headlength=3, width=0.001):\n",
    "    \"\"\"\n",
    "        Desenha uma seta na posição x, y com um ângulo theta\n",
    "        ax é o contexto gráfico\n",
    "    \"\"\"\n",
    "    deltax = l*math.cos(theta)\n",
    "    deltay = l*math.sin(theta)\n",
    "    ax.arrow(x, y, deltax, deltay, head_width=headwidth, head_length=headlength, fc='k', ec=color, width=width)\n",
    "    \n",
    "def draw_particles(particles,ax):\n",
    "    for i in particles:\n",
    "        nb_draw_arrow(i[0],i[1],i[2],ax)"
   ]
  },
  {
   "cell_type": "markdown",
   "metadata": {},
   "source": [
    "Célula pequena para inicializar as partículas"
   ]
  },
  {
   "cell_type": "code",
   "execution_count": 26,
   "metadata": {
    "collapsed": true
   },
   "outputs": [],
   "source": [
    "particles = create_particles(pose, num=200)\n",
    "particles.append([pose[0], pose[1], pose[2]])"
   ]
  },
  {
   "cell_type": "markdown",
   "metadata": {},
   "source": [
    "# Exercício 3 ao 9"
   ]
  },
  {
   "cell_type": "markdown",
   "metadata": {},
   "source": [
    "Aqui é onde toda a mágica acontece, ela integra todos os itens do projeto, do 3 ao 9."
   ]
  },
  {
   "cell_type": "code",
   "execution_count": 27,
   "metadata": {
    "collapsed": true,
    "scrolled": true
   },
   "outputs": [],
   "source": [
    "#Essa função não é chamada (está sendo inserida direto no código), mas eu a coloquei aqui para destáca-la\n",
    "#e documenta-la. Essa função é responsável por reamostras as partículas de forma que as novas partículas\n",
    "#sejam criadas a partir da probabilidade das antigas. Adicionamos um desvio normal para que não sejam criadas\n",
    "#partículas identicas naquele ponto.\n",
    "def reamostragem (particulas):\n",
    "    particulas_reamostragem = Particle.draw_random_sample(particles,prob_after,len(particles))\n",
    "    particulas_reamostragem_comdesvio = []\n",
    "    for i in particulas_reamostragem:\n",
    "        delta_x = np.random.normal(-2,2)\n",
    "        delta_y = np.random.normal(-2,2)\n",
    "        delta_theta = np.random.normal(-2,2)\n",
    "        x_desv = i[0] + delta_x\n",
    "        y_desv = i[1] + delta_y\n",
    "        delta_theta = i[2] + delta_theta\n",
    "        particulas_reamostragem_comdesvio.append([x_desv,y_desv,delta_theta])\n",
    "        \n",
    "# As funções de deslocamento movem as partículas em função da posição do robo verdadeiro, também adicionando \n",
    "#um desvio normal.\n",
    "def deslocamento(x,y,theta, std_x=1,std_y=1,std_theta=math.pi/30):\n",
    "    x = np.random.normal(x,std_x)\n",
    "    y = np.random.normal(y,std_y)\n",
    "    theta = np.random.normal(theta,std_theta)\n",
    "    return (x, y, theta)\n",
    "\n",
    "def cria_deslocamento(particulas,delta):\n",
    "    particles = []\n",
    "    for i in particulas:\n",
    "        i[0], i[1], i[2] = deslocamento(i[0],i[1],i[2])\n",
    "        i[0]+=delta[0]\n",
    "        i[1] += delta[1]\n",
    "        i[2] += delta[2]\n",
    "        particles.append(i)\n",
    "        \n",
    "    return particles\n",
    "#função que cálcula a probabilidade da leitura daquele sensor estar certa, dada aquela posição.\n",
    "def pdh(angles,zj,_zj,sig):\n",
    "    import mpmath as mp\n",
    "    count = mp.mpf(1.0)\n",
    "    sig22 = mp.mpf(2*sig*sig)\n",
    "    for i in range(0,len(angles)):   \n",
    "        #count *= math.e**((-(zj[angles[i]]-_zj[angles[i]]))/(2*sig**2))\n",
    "        pdh = mp.exp( - (zj[angles[i]] - _zj[angles[i]])/sig22 )\n",
    "        count *= pdh\n",
    "    return count\n",
    "\n",
    " \n",
    "#lista que contem os dados de movimento do robô\n",
    "movimentos = [[-10, -10, 0], \n",
    "              [0,0,math.pi/12.0],[0,0,math.pi/12.0],[0,0,math.pi/12.0],[0,0,math.pi/12.0],\n",
    "              [0,0,math.pi/12.0],[0,0,math.pi/12.0],\n",
    "              [-10, 10, 0], [-10,0,0], [-10, 0, 0],\n",
    "              [0,0,math.pi/12.0], [0, 0, math.pi/12.0], [0, 0, math.pi/12],[0,0,-math.pi/4],\n",
    "              [-5, 0, 0],[-5,0,0], [-5,0,0], [10,0,0],[10,0,0], [10,0,0],[-10,0,0],[-10,0,0],[-15,0,0],\n",
    "              [0,0,-math.pi/4],[0, 10, 0], [0,10,0], [0, 10, 0], [0,10,0], [0,0,math.pi/8], [0,10,0], [0,10,0], \n",
    "              [0,10,0], [0,10,0], [0,10,0],[0,10,0],\n",
    "              [0,0,-math.radians(90)],\n",
    "              [math.cos(math.pi/3)*10, math.sin(math.pi/3),0],[math.cos(math.pi/3)*10, math.sin(math.pi/3),0],[math.cos(math.pi/3)*10, math.sin(math.pi/3),0],\n",
    "              [math.cos(math.pi/3)*10, math.sin(math.pi/3),0]\n",
    "              \n",
    "              ]\n",
    "plt.ioff() # Desliga o modo interativo, para nao aparecerem muitas imagens no meio\n",
    "first_hist_data = [] #lista  a ser usada para plotar o histograma referente ao primeiro frame\n",
    "last_hist_data = [] #lista  a ser usada para plotar o histograma referente ao primeiro frame\n",
    "frames = 1\n",
    "#Conecta todos os itens e gera a sequência de imagens\n",
    "for delta in movimentos:  \n",
    "    #geram os dados para plotar os histogramas\n",
    "    if(frames==1):\n",
    "        for i in particles:\n",
    "            first_hist_data.append(((pose[0]-i[0])**2 + (pose[1]-i[1])**2)**0.5)\n",
    "    if(frames==38):\n",
    "        for i in particles:\n",
    "            last_hist_data.append(((pose[0]-i[0])**2 + (pose[1]-i[1])**2)**0.5)\n",
    "            \n",
    "    # Simula a leitura do lidar\n",
    "    leituras_reais, lidar_map = inspercles.nb_simulate_lidar_fast(pose, angles, np_image)\n",
    "    # Desenha as particulas\n",
    "    ax= inspercles.nb_draw_map(color_image, pose=pose, robot=True)\n",
    "    draw_particles(particles,ax) \n",
    "    particles  = cria_deslocamento(particles,delta)   \n",
    "    prob_before = []\n",
    "    prob_after = []\n",
    "    for i in particles: \n",
    "        leitura_part, lidar_part_map = inspercles.nb_simulate_lidar_fast(i, angles, np_image, output_image=False)\n",
    "        prob_before.append(pdh(angles, leituras_reais,leitura_part, 5)) # sigma = 5\n",
    "    total = sum(prob_before)\n",
    "    for i in range(0,len(prob_before)):\n",
    "        prob_after.append(prob_before[i]/total)     \n",
    "    prob_after = [float(v) for v in prob_after]     \n",
    "    particulas_reamostragem = Particle.draw_random_sample(particles,prob_after,len(particles))\n",
    "    particulas_reamostragem_comdesvio = []\n",
    "    for i in particulas_reamostragem:\n",
    "        x = np.random.normal(i[0],8)\n",
    "        y = np.random.normal(i[1],8)\n",
    "        theta = np.random.normal(i[2],0.04)\n",
    "        particulas_reamostragem_comdesvio.append([x,y,theta])\n",
    "    particles =  particulas_reamostragem_comdesvio \n",
    "    \n",
    "    for i in range(len(pose)):\n",
    "        pose[i]+=delta[i] \n",
    "    # Desenha o mapa do lidar\n",
    "    ax.imshow(lidar_map, alpha=0.5)\n",
    "    \n",
    "    plt.savefig(\"teste%04d.png\"%frames, bounds=\"tight\")\n",
    "    \n",
    "    frames+=1\n",
    "    plt.close('all')\n",
    "\n",
    "\n",
    "plt.ion()\n"
   ]
  },
  {
   "cell_type": "markdown",
   "metadata": {},
   "source": [
    "Um print simples que comprova que a soma das probabilidades depois da normalização é igual a 1."
   ]
  },
  {
   "cell_type": "code",
   "execution_count": 28,
   "metadata": {},
   "outputs": [
    {
     "data": {
      "text/plain": [
       "1.0"
      ]
     },
     "execution_count": 28,
     "metadata": {},
     "output_type": "execute_result"
    }
   ],
   "source": [
    "sum(prob_after)"
   ]
  },
  {
   "cell_type": "markdown",
   "metadata": {},
   "source": [
    "# Histogramas da diferença da posição das partículas em relação a posição do robô."
   ]
  },
  {
   "cell_type": "code",
   "execution_count": 29,
   "metadata": {},
   "outputs": [
    {
     "data": {
      "text/plain": [
       "(array([  6.,  13.,  15.,  14.,  34.,  32.,  34.,  34.,  10.,   9.]),\n",
       " array([   0.        ,   13.51607165,   27.03214331,   40.54821496,\n",
       "          54.06428661,   67.58035827,   81.09642992,   94.61250158,\n",
       "         108.12857323,  121.64464488,  135.16071654]),\n",
       " <a list of 10 Patch objects>)"
      ]
     },
     "execution_count": 29,
     "metadata": {},
     "output_type": "execute_result"
    },
    {
     "data": {
      "image/png": "[encoded data removed]",
      "text/plain": [
       "<matplotlib.figure.Figure at 0x7fa2383b0610>"
      ]
     },
     "metadata": {},
     "output_type": "display_data"
    }
   ],
   "source": [
    "plt.hist(first_hist_data)"
   ]
  },
  {
   "cell_type": "code",
   "execution_count": 33,
   "metadata": {},
   "outputs": [
    {
     "data": {
      "text/plain": [
       "(array([ 10.,  36.,  59.,  56.,  19.,   6.,   4.,   4.,   3.,   4.]),\n",
       " array([  42.03307866,   48.83953685,   55.64599505,   62.45245324,\n",
       "          69.25891144,   76.06536963,   82.87182783,   89.67828602,\n",
       "          96.48474422,  103.29120241,  110.09766061]),\n",
       " <a list of 10 Patch objects>)"
      ]
     },
     "execution_count": 33,
     "metadata": {},
     "output_type": "execute_result"
    },
    {
     "data": {
      "image/png": "[encoded data removed]",
      "text/plain": [
       "<matplotlib.figure.Figure at 0x7fa2309dc6d0>"
      ]
     },
     "metadata": {},
     "output_type": "display_data"
    }
   ],
   "source": [
    "plt.hist(last_hist_data)\n"
   ]
  },
  {
   "cell_type": "markdown",
   "metadata": {},
   "source": [
    "![](anim.gif)"
   ]
  }
 ],
 "metadata": {
  "kernelspec": {
   "display_name": "Python 2",
   "language": "python",
   "name": "python2"
  },
  "language_info": {
   "codemirror_mode": {
    "name": "ipython",
    "version": 2
   },
   "file_extension": ".py",
   "mimetype": "text/x-python",
   "name": "python",
   "nbconvert_exporter": "python",
   "pygments_lexer": "ipython2",
   "version": "2.7.12"
  }
 },
 "nbformat": 4,
 "nbformat_minor": 1
}
