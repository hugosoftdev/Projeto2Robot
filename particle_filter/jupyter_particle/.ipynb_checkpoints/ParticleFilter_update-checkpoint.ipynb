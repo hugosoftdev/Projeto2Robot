{
 "cells": [
  {
   "cell_type": "markdown",
   "metadata": {},
   "source": [
    "# Filtro de partículas\n",
    "\n",
    "\n",
    "Cada partícula vai ser representada por uma lista [x,y,theta]\n",
    "\n",
    "Trabalhe com 2 listas:\n",
    "\n",
    "\tS = []  # Vai conter as n partículas. \n",
    "\n",
    "\tW = [] # Pesos das partículas\n",
    "\n",
    "\tn_part = # Número de partículas\n",
    "\n",
    "\n",
    "# Atividades\n",
    "\n",
    "\n",
    "1. Crie uma função que gere n partículas aleatórias distribuidas uniformemente dentro de uma área minx, miny, maxx, maxy (passados como parâmetros). Veja a funcao \n",
    "\n",
    "\tDevolve uma lista com n partículas\n",
    "\n",
    "2. Descubra como desenhar as n partículas (analise o módulo inspercles)\n",
    "\n",
    "3. Faça o desenho das partículas\n",
    "\n",
    "4. Crie uma lista para simular os movimentos do robô. Veja a lista chamada <code>movimentos</code> que é usada na seção *Teste de animação*, mais abaixo\n",
    "\n",
    "5. Crie uma função que aplica um deslocamento [delta_x, delta_y, delta_theta] com um desvio padrão [std_x, std_y, std_theta] a todas as partículas\n",
    "\n",
    "6. Desenhe as partículas após o deslocamento\n",
    "\n",
    "7. Descubra como calcular $P(D|H)$ analisando o Python Notebook. A função que traça os raios está no modulo inspercles\n",
    "\n",
    "Programe a aplicação da equação que está na pág. 853 do livro do Norvig $$P(z_t | x_t) = \\alpha \\prod_{j}^M{e^{\\frac{-(z_j - \\hat{z_j})}{2\\sigma^2}}}$$\n",
    "\n",
    "Ou seja, para cada raio estimado $\\hat{z_j}$ e leitura real $z_j$ calcule a probabilidade daquele raio ter acontecido dado que a posição do robô fosse de fato a da partícula\n",
    "\n",
    "\n",
    "8 . Usando os resultados de 7 calcule $P(H|D)$ e insira numa lista de probabilidades das partículas\n",
    "\n",
    "9 . Reamostre as partículas de forma proporcional à probabilidade\n",
    "\n"
   ]
  },
  {
   "cell_type": "code",
   "execution_count": 1,
   "metadata": {},
   "outputs": [],
   "source": [
    "from random import randint, choice\n",
    "import time\n",
    "import matplotlib.pyplot as plt\n",
    "import matplotlib.patches as mpatches\n",
    "import numpy as np\n",
    "import math\n",
    "import random\n",
    "from pf import Particle\n",
    "from nav_msgs.msg import OccupancyGrid\n",
    "from occupancy_field import OccupancyField\n",
    "from helper_functions import angle_normalize, angle_diff\n",
    "\n",
    "import cv2\n",
    "\n",
    "import sys\n",
    "import os\n",
    "os.getcwd() \n",
    "import sys\n",
    "sys.path.append(os.getcwd())\n",
    "\n",
    "\n",
    "import inspercles\n",
    "reload(inspercles)\n",
    "\n",
    "\n",
    "# Para suprimir alguns warnings do Matplotlib Inline\n",
    "import warnings\n",
    "warnings.simplefilter('ignore')\n",
    "%matplotlib inline\n"
   ]
  },
  {
   "cell_type": "markdown",
   "metadata": {},
   "source": [
    "## Diretõrio de trabalho"
   ]
  },
  {
   "cell_type": "code",
   "execution_count": 2,
   "metadata": {},
   "outputs": [
    {
     "name": "stdout",
     "output_type": "stream",
     "text": [
      "/home/borg/robot17/particle_filter/jupyter_particle\r\n"
     ]
    }
   ],
   "source": [
    "!pwd\n",
    "\n",
    "\n"
   ]
  },
  {
   "cell_type": "code",
   "execution_count": 3,
   "metadata": {
    "collapsed": true
   },
   "outputs": [],
   "source": [
    "# Dados do arquivo mapa.yaml\n",
    "\n",
    "resolution = 0.020000\n",
    "origin =  [-5.000000, -5.000000, 0.000000]\n",
    "occupied_thresh = 0.8\n",
    "free_thresh =  0.2\n",
    "\n",
    "inspercles.free_thresh = free_thresh # Limiar em tons de cinza para que uma celula seja considerada livre\n",
    "inspercles.occupied_thresh = occupied_thresh # Limiar de celula ocupada\n",
    "inspercles.origin = origin\n",
    "inspercles.resolution = resolution\n"
   ]
  },
  {
   "cell_type": "code",
   "execution_count": 4,
   "metadata": {
    "collapsed": true
   },
   "outputs": [],
   "source": [
    "\n",
    "\n",
    "from PIL import Image as PilImage\n",
    "\n",
    "\n",
    "color_image = cv2.imread(\"sparse_obstacles.png\")\n",
    "pil_image = color_image\n",
    "np_image = cv2.cvtColor(color_image, cv2.COLOR_BGR2GRAY)\n",
    "\n",
    "\n",
    "#color_image = PilImage.open(\"sparse_obstacles.png\", 'r')\n",
    "#pil_image = color_image.convert('1') # Converte a imagem PIL para Grayscale\n",
    "#np_image = np.asarray(pil_image)\n",
    "\n",
    "particle_size = 10\n",
    "\n",
    "#import matplotlib_render as plotmap\n",
    "\n",
    "\n",
    "back_color = \"black\"\n",
    "colors     = ['red', 'green', 'cyan', 'yellow']\n",
    "width, height = 775, 746\n",
    "\n",
    "inspercles.width = width\n",
    "inspercles.height = height\n",
    "\n",
    "\n",
    "\n",
    "\n",
    "initial_pose = [200, 200, math.pi/8] # Posicao inicial considerada para o pf\n",
    "inspercles.initial_pose = initial_pose\n",
    "pose = [330, 220, math.radians(90)] # posicao \"verdadeira\" do robo \n",
    "inspercles.pose = pose\n",
    "robot_radius=10   # Raio do robo\n",
    "inspercles.robot_radius = robot_radius\n",
    "\n",
    "\n",
    "# Os angulos em que o robo simulado vai ter sensores\n",
    "angles = np.linspace(0.0, 2*math.pi, num=8)\n",
    "\n",
    "particle_cloud = []\n",
    "\n",
    "\n",
    "\n",
    "    \n",
    "    \n",
    "    \n",
    "    "
   ]
  },
  {
   "cell_type": "code",
   "execution_count": 5,
   "metadata": {
    "collapsed": true
   },
   "outputs": [],
   "source": [
    "def create_particles(pos,var_x =100,var_y=100, var_theta= math.pi/3,n_part=50):\n",
    "    S = [] #lista de partículas0\n",
    "    for i in range(n_part):\n",
    "        x = np.random.uniform(pos[0]-var_x,pos[0]+var_x)\n",
    "        y = np.random.uniform(pos[1]-var_y,pos[1]+var_y)\n",
    "        theta =  np.random.uniform(pos[2]-var_theta,pos[2]+var_theta)\n",
    "        S.append([x,y,theta])\n",
    "    return S\n",
    "def nb_draw_arrow(x, y, theta, ax, l = 15, color='y', headwidth=3.0, headlength=3, width=0.001):\n",
    "    \"\"\"\n",
    "        Desenha uma seta na posição x, y com um ângulo theta\n",
    "        ax é o contexto gráfico\n",
    "    \"\"\"\n",
    "    deltax = l*math.cos(theta)\n",
    "    deltay = l*math.sin(theta)\n",
    "    ax.arrow(x, y, deltax, deltay, head_width=headwidth, head_length=headlength, fc=color, ec=color, width=width)\n",
    "    \n",
    "def draw_particles(particles,ax):\n",
    "    for i in particles:\n",
    "        nb_draw_arrow(i[0],i[1],i[2],ax)"
   ]
  },
  {
   "cell_type": "code",
   "execution_count": 6,
   "metadata": {},
   "outputs": [],
   "source": [
    "particles = create_particles(pose)"
   ]
  },
  {
   "cell_type": "code",
   "execution_count": 7,
   "metadata": {},
   "outputs": [],
   "source": [
    "# Coloque nesta lista os deslocamentos do robo\n",
    "\n",
    "movimentos = [[-10, -10, 0], [-10, 10, 0], [-10,0,0], [-10, 0, 0],\n",
    "              [0,0,math.pi/12.0], [0, 0, math.pi/12.0], [0, 0, math.pi/12],[0,0,-math.pi/4],\n",
    "              [-5, 0, 0],[-5,0,0], [-5,0,0], [-10,0,0],[-10,0,0], [-10,0,0],[-10,0,0],[-10,0,0],[-15,0,0],\n",
    "              [0,0,-math.pi/4],[0, 10, 0], [0,10,0], [0, 10, 0], [0,10,0], [0,0,math.pi/8], [0,10,0], [0,10,0], \n",
    "              [0,10,0], [0,10,0], [0,10,0],[0,10,0],\n",
    "              [0,0,-math.radians(90)],\n",
    "              [math.cos(math.pi/3)*10, math.sin(math.pi/3),0],[math.cos(math.pi/3)*10, math.sin(math.pi/3),0],[math.cos(math.pi/3)*10, math.sin(math.pi/3),0],\n",
    "              [math.cos(math.pi/3)*10, math.sin(math.pi/3),0]\n",
    "              \n",
    "              ]\n",
    "plt.ioff() # Desliga o modo interativo, para nao aparecerem muitas imagens no meio\n",
    "\n",
    "frames = 1\n",
    "\n",
    "for delta in movimentos:\n",
    "    for i in range(len(pose)):\n",
    "        pose[i]+=delta[i]\n",
    "            \n",
    "        # Simula a leitura do lidar\n",
    "        leituras, lidar_map = inspercles.nb_simulate_lidar(pose, angles, np_image)\n",
    "        \n",
    "        # Desenha as particulas\n",
    "        ax = inspercles.nb_draw_map(color_image, pose=pose, robot=True, particles=particles)\n",
    "        #ax.imshow(occupancy_image, alph.2)\n",
    "        # Desenha o mapa do lidar\n",
    "        ax.imshow(lidar_map, alpha=0.5)\n",
    "    \n",
    "    plt.savefig(\"pau%04d.png\"%frames, bounds=\"tight\")\n",
    "    \n",
    "    frames+=1\n",
    "    plt.close('all')\n",
    "\n",
    "\n",
    "plt.ion()\n"
   ]
  },
  {
   "cell_type": "code",
   "execution_count": 8,
   "metadata": {},
   "outputs": [
    {
     "data": {
      "image/png": "[encoded data removed]",
      "text/plain": [
       "<matplotlib.figure.Figure at 0x7fb785bb48d0>"
      ]
     },
     "metadata": {},
     "output_type": "display_data"
    }
   ],
   "source": [
    "\n",
    "ax= inspercles.nb_draw_map(color_image, pose=pose, robot=True)\n",
    "draw_particles(particles,ax)"
   ]
  },
  {
   "cell_type": "code",
   "execution_count": 9,
   "metadata": {
    "collapsed": true
   },
   "outputs": [],
   "source": [
    "#5\n",
    "\n",
    "def deslocamento(x,y,theta, std_x=5,std_y=5,std_theta=math.pi/30):\n",
    "    delta_x = np.random.normal(-std_x,std_x)\n",
    "    delta_y = np.random.normal(-std_y,std_y)\n",
    "    delta_theta = np.random.normal(-std_theta,std_theta)\n",
    "    \n",
    "    x = x + delta_x\n",
    "    y = y + delta_y\n",
    "    theta =  theta + delta_theta\n",
    "    return (x, y, theta)\n",
    "\n",
    "def cria_descolamento(particulas):\n",
    "    particles = []\n",
    "    for i in particulas:\n",
    "        i[0], i[1], i[2] = deslocamento(i[0],i[1],i[2])\n",
    "        particles.append(i)\n",
    "        \n",
    "    return particles"
   ]
  },
  {
   "cell_type": "code",
   "execution_count": 10,
   "metadata": {},
   "outputs": [
    {
     "data": {
      "image/png": "[encoded data removed]",
      "text/plain": [
       "<matplotlib.figure.Figure at 0x7fb72f3bb490>"
      ]
     },
     "metadata": {},
     "output_type": "display_data"
    }
   ],
   "source": [
    "particles = cria_descolamento(particles)\n",
    "ax= inspercles.nb_draw_map(color_image, pose=pose, robot=True)\n",
    "draw_particles(particles,ax)\n"
   ]
  },
  {
   "cell_type": "code",
   "execution_count": 13,
   "metadata": {},
   "outputs": [],
   "source": [
    "def pdh(angles,zj,_zj,sig):\n",
    "    count = 1\n",
    "   #for i in range(0,len(angles)):\n",
    "       \n",
    "        #count *= math.e**((-(zj[i]-_zj[i]))/(2*sig**2))\n",
    "    #a = 1/count\n",
    "    print(zj)\n",
    "    print(_zj)\n",
    "    return a*count\n",
    "        \n",
    "    "
   ]
  },
  {
   "cell_type": "code",
   "execution_count": 14,
   "metadata": {},
   "outputs": [
    {
     "name": "stdout",
     "output_type": "stream",
     "text": [
      "{0.0: 90.06664199358161, 6.2831853071795862: 90.06664199358161, 5.3855874061539311: 66.58439725854318, 3.5903916041026207: 81.95336374470835, 0.89759790102565518: 96.03348780825544, 2.6927937030769655: 195.72237051233066, 1.7951958020513104: 132.5772539964889, 4.4879895051282759: 91.48596550435609}\n",
      "{0.0: 167.28378456853417, 6.2831853071795862: 167.28378456853417, 5.3855874061539311: 167.28378456853417, 3.5903916041026207: 269.4834259394278, 0.89759790102565518: 177.14795011217882, 2.6927937030769655: 312.2031042730939, 1.7951958020513104: 288.12204802781855, 4.4879895051282759: 167.28378456853417}\n"
     ]
    },
    {
     "ename": "NameError",
     "evalue": "global name 'a' is not defined",
     "output_type": "error",
     "traceback": [
      "\u001b[0;31m---------------------------------------------------------------------------\u001b[0m",
      "\u001b[0;31mNameError\u001b[0m                                 Traceback (most recent call last)",
      "\u001b[0;32m<ipython-input-14-b4750c2a2fcb>\u001b[0m in \u001b[0;36m<module>\u001b[0;34m()\u001b[0m\n\u001b[1;32m      4\u001b[0m \u001b[0;34m\u001b[0m\u001b[0m\n\u001b[1;32m      5\u001b[0m     \u001b[0mleitura_part\u001b[0m\u001b[0;34m,\u001b[0m \u001b[0mlidar_part_map\u001b[0m \u001b[0;34m=\u001b[0m \u001b[0minspercles\u001b[0m\u001b[0;34m.\u001b[0m\u001b[0mnb_simulate_lidar\u001b[0m\u001b[0;34m(\u001b[0m\u001b[0mi\u001b[0m\u001b[0;34m,\u001b[0m \u001b[0mangles\u001b[0m\u001b[0;34m,\u001b[0m \u001b[0mnp_image\u001b[0m\u001b[0;34m)\u001b[0m\u001b[0;34m\u001b[0m\u001b[0m\n\u001b[0;32m----> 6\u001b[0;31m     \u001b[0mprobabilidades\u001b[0m\u001b[0;34m.\u001b[0m\u001b[0mappend\u001b[0m\u001b[0;34m(\u001b[0m\u001b[0mpdh\u001b[0m\u001b[0;34m(\u001b[0m\u001b[0mangles\u001b[0m\u001b[0;34m,\u001b[0m \u001b[0mleituras_reais\u001b[0m\u001b[0;34m,\u001b[0m\u001b[0mleitura_part\u001b[0m\u001b[0;34m,\u001b[0m \u001b[0;36m5\u001b[0m\u001b[0;34m)\u001b[0m\u001b[0;34m)\u001b[0m \u001b[0;31m# sigma = 5\u001b[0m\u001b[0;34m\u001b[0m\u001b[0m\n\u001b[0m",
      "\u001b[0;32m<ipython-input-13-df36887cb849>\u001b[0m in \u001b[0;36mpdh\u001b[0;34m(angles, zj, _zj, sig)\u001b[0m\n\u001b[1;32m      7\u001b[0m     \u001b[0;32mprint\u001b[0m\u001b[0;34m(\u001b[0m\u001b[0mzj\u001b[0m\u001b[0;34m)\u001b[0m\u001b[0;34m\u001b[0m\u001b[0m\n\u001b[1;32m      8\u001b[0m     \u001b[0;32mprint\u001b[0m\u001b[0;34m(\u001b[0m\u001b[0m_zj\u001b[0m\u001b[0;34m)\u001b[0m\u001b[0;34m\u001b[0m\u001b[0m\n\u001b[0;32m----> 9\u001b[0;31m     \u001b[0;32mreturn\u001b[0m \u001b[0ma\u001b[0m\u001b[0;34m*\u001b[0m\u001b[0mcount\u001b[0m\u001b[0;34m\u001b[0m\u001b[0m\n\u001b[0m\u001b[1;32m     10\u001b[0m \u001b[0;34m\u001b[0m\u001b[0m\n\u001b[1;32m     11\u001b[0m \u001b[0;34m\u001b[0m\u001b[0m\n",
      "\u001b[0;31mNameError\u001b[0m: global name 'a' is not defined"
     ]
    }
   ],
   "source": [
    "leituras_reais, lidar_map = inspercles.nb_simulate_lidar(pose, angles, np_image)\n",
    "probabilidades = []\n",
    "for i in particles:\n",
    "    \n",
    "    leitura_part, lidar_part_map = inspercles.nb_simulate_lidar(i, angles, np_image)\n",
    "    probabilidades.append(pdh(angles, leituras_reais,leitura_part, 5)) # sigma = 5\n"
   ]
  },
  {
   "cell_type": "markdown",
   "metadata": {},
   "source": [
    "## Mapa com posição inicial"
   ]
  },
  {
   "cell_type": "code",
   "execution_count": null,
   "metadata": {},
   "outputs": [],
   "source": [
    "inspercles.nb_draw_map(color_image, pose=pose, robot=True)"
   ]
  },
  {
   "cell_type": "markdown",
   "metadata": {},
   "source": [
    "A função *nb_initialize_particle_cloud()* pertence ao módulo <code>inspercles</code> e já faz uma primeira aleatorização das partículas"
   ]
  },
  {
   "cell_type": "code",
   "execution_count": null,
   "metadata": {
    "collapsed": true
   },
   "outputs": [],
   "source": [
    "# Inicializa as particulas\n",
    "particulas = inspercles.nb_initialize_particle_cloud()"
   ]
  },
  {
   "cell_type": "code",
   "execution_count": null,
   "metadata": {
    "scrolled": true
   },
   "outputs": [],
   "source": []
  },
  {
   "cell_type": "code",
   "execution_count": null,
   "metadata": {},
   "outputs": [],
   "source": [
    "angles"
   ]
  },
  {
   "cell_type": "markdown",
   "metadata": {},
   "source": [
    "# Simulação da imagem do laser"
   ]
  },
  {
   "cell_type": "markdown",
   "metadata": {},
   "source": [
    "Para simular a leitura **real** do robo, use *nb_simulate_lidar* passando a posição real do robô, os ângulos do sensor e a np_image com o mapa"
   ]
  },
  {
   "cell_type": "code",
   "execution_count": null,
   "metadata": {
    "collapsed": true
   },
   "outputs": [],
   "source": [
    "leituras, lidar_map = inspercles.nb_simulate_lidar(pose, angles, np_image)\n"
   ]
  },
  {
   "cell_type": "code",
   "execution_count": null,
   "metadata": {
    "scrolled": true
   },
   "outputs": [],
   "source": [
    "ax = inspercles.nb_draw_map(lidar_map, robot=True, pose=pose)\n",
    "ax.imshow(color_image, alpha=0.8)\n",
    "#nb_draw_map(occupancy_image)"
   ]
  },
  {
   "cell_type": "markdown",
   "metadata": {},
   "source": [
    "As leituras serao retornadas pela simulacao do lidar. Sao armazenadas na forma de um dicionario com angulo: valor da leitura"
   ]
  },
  {
   "cell_type": "code",
   "execution_count": null,
   "metadata": {},
   "outputs": [],
   "source": [
    "# As predicoes teoricas das leituras\n",
    "leituras"
   ]
  },
  {
   "cell_type": "code",
   "execution_count": null,
   "metadata": {
    "collapsed": true
   },
   "outputs": [],
   "source": []
  },
  {
   "cell_type": "code",
   "execution_count": null,
   "metadata": {
    "scrolled": false
   },
   "outputs": [],
   "source": [
    "ax = inspercles.nb_draw_map(lidar_map, pose=pose, robot=True)\n",
    "#ax.imshow(occupancy_image, alpha=0.2)\n",
    "ax.imshow(pil_image, alpha=0.5)"
   ]
  },
  {
   "cell_type": "code",
   "execution_count": null,
   "metadata": {},
   "outputs": [],
   "source": [
    "ax = inspercles.nb_draw_map(pil_image, pose=pose, robot=True, particles=particulas)\n",
    "#ax.imshow(occupancy_image, alpha=0.2)\n",
    "ax.imshow(lidar_map, alpha=0.5)"
   ]
  },
  {
   "cell_type": "markdown",
   "metadata": {},
   "source": [
    "## Gerando uma animação"
   ]
  },
  {
   "cell_type": "code",
   "execution_count": null,
   "metadata": {
    "collapsed": true
   },
   "outputs": [],
   "source": [
    "# Coloque nesta lista os deslocamentos do robo\n",
    "\n",
    "movimentos = [[-10, -10, 0], [-10, 10, 0], [-10,0,0], [-10, 0, 0],\n",
    "              [0,0,math.pi/12.0], [0, 0, math.pi/12.0], [0, 0, math.pi/12],[0,0,-math.pi/4],\n",
    "              [-5, 0, 0],[-5,0,0], [-5,0,0], [-10,0,0],[-10,0,0], [-10,0,0],[-10,0,0],[-10,0,0],[-15,0,0],\n",
    "              [0,0,-math.pi/4],[0, 10, 0], [0,10,0], [0, 10, 0], [0,10,0], [0,0,math.pi/8], [0,10,0], [0,10,0], \n",
    "              [0,10,0], [0,10,0], [0,10,0],[0,10,0],\n",
    "              [0,0,-math.radians(90)],\n",
    "              [math.cos(math.pi/3)*10, math.sin(math.pi/3),0],[math.cos(math.pi/3)*10, math.sin(math.pi/3),0],[math.cos(math.pi/3)*10, math.sin(math.pi/3),0],\n",
    "              [math.cos(math.pi/3)*10, math.sin(math.pi/3),0]\n",
    "              \n",
    "              ]\n"
   ]
  },
  {
   "cell_type": "code",
   "execution_count": null,
   "metadata": {
    "collapsed": true
   },
   "outputs": [],
   "source": [
    "\n",
    "plt.ioff() # Desliga o modo interativo, para nao aparecerem muitas imagens no meio\n",
    "\n",
    "frames = 1\n",
    "\n",
    "for delta in movimentos:\n",
    "    for i in range(len(pose)):\n",
    "        pose[i]+=delta[i]\n",
    "            \n",
    "        # Simula a leitura do lidar\n",
    "    leituras, lidar_map = inspercles.nb_simulate_lidar(pose, angles, np_image)\n",
    "\n",
    "    # Desenha as particulas\n",
    "    ax = inspercles.nb_draw_map(color_image, pose=pose, robot=True, particles=particulas)\n",
    "    #ax.imshow(occupancy_image, alph.2)\n",
    "    # Desenha o mapa do lidar\n",
    "    ax.imshow(lidar_map, alpha=0.5)\n",
    "    \n",
    "    plt.savefig(\"anim%04d.png\"%frames, bounds=\"tight\")\n",
    "    \n",
    "    frames+=1\n",
    "    plt.close('all')\n",
    "\n",
    "\n",
    "plt.ion()\n",
    "\n"
   ]
  },
  {
   "cell_type": "markdown",
   "metadata": {},
   "source": [
    "Para gerar os gifs é preciso ter o pacote *imagemagick*\n",
    "\n",
    "O imagemagick pode ser obtido com o seguinte comando:\n",
    "    sudo apt-get install imagemagick \n",
    "    \n",
    "Agora vamos invocar na linha de comando o seguinte comando:\n",
    "    convert -delay 10 -loop 1 anim*png animated.gif\n",
    "    \n",
    "Este comando criou um arquivo chamado *animated.fig*, que leremos abaixo:\n",
    "    "
   ]
  },
  {
   "cell_type": "code",
   "execution_count": null,
   "metadata": {
    "collapsed": true
   },
   "outputs": [],
   "source": [
    "!convert -delay 10 -loop 1 anim*png animated.gif"
   ]
  },
  {
   "cell_type": "markdown",
   "metadata": {},
   "source": [
    "Infelizmente o IPython Notebook 2 nao parece exibir animacoes em Gif por default, mas voce pode abrir o arquivo no diretorio de trabalho e devera'  ve-lo.\n",
    "\n",
    "<img src=\"animated.gif\">"
   ]
  },
  {
   "cell_type": "markdown",
   "metadata": {},
   "source": [
    "![](anim.gif)"
   ]
  }
 ],
 "metadata": {
  "kernelspec": {
   "display_name": "Python 2",
   "language": "python",
   "name": "python2"
  },
  "language_info": {
   "codemirror_mode": {
    "name": "ipython",
    "version": 2
   },
   "file_extension": ".py",
   "mimetype": "text/x-python",
   "name": "python",
   "nbconvert_exporter": "python",
   "pygments_lexer": "ipython2",
   "version": "2.7.12"
  }
 },
 "nbformat": 4,
 "nbformat_minor": 1
}
